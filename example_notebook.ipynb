{
 "cells": [
  {
   "cell_type": "markdown",
   "id": "83231091",
   "metadata": {},
   "source": [
    "# Using the TDCOSMO likelihood with Cobaya\n",
    "\n",
    "Author: Natalie B. Hogg"
   ]
  },
  {
   "cell_type": "markdown",
   "id": "3ca26782",
   "metadata": {},
   "source": [
    "## Installation\n",
    "\n",
    "This notebook assumes that you have installed Cobaya as described here: https://cobaya.readthedocs.io/en/latest/installation.html, along with hierArc and lenstronomy. You also need to clone the `tdcosmo_ext` repository to your machine and change the paths in the settings below to match where you have saved it."
   ]
  },
  {
   "cell_type": "markdown",
   "id": "817ea18f",
   "metadata": {},
   "source": [
    "## Sampling\n",
    "\n",
    "Cobaya takes its settings either as Python dictionaries or in yaml format. Here are the yaml settings to do a very quick test run. Most of the parameters are kept fixed to arbitrary values.\n",
    "\n",
    "In the `likelihood` block we call the TDCOSMO external likelihood, and we also exploit the external likelihood capability of Cobaya to impose the Pantheon prior on $\\Omega_{\\rm m}$, as done in the original TDCOSMO analysis. We have to set the prior in this way because in the Cobaya framework, $\\Omega_{\\rm m}$ is a derived parameter and therefore not directly sampled. This means we can't set a prior on it in the `params` block as done with e.g. $H_0$."
   ]
  },
  {
   "cell_type": "code",
   "execution_count": 1,
   "id": "ab395f50",
   "metadata": {},
   "outputs": [],
   "source": [
    "info_yaml = r\"\"\"\n",
    "likelihood:\n",
    "    tdcosmo.tdcosmo.TDCOSMO:\n",
    "      python_path: /home/natalie/Projects/slide/tdcosmo_ext/\n",
    "      tdcosmo_lenses: data/tdcosmo7_likelihood_processed.pkl\n",
    "    prior_omegam:  \n",
    "      external: \"lambda _self: stats.norm.logpdf(_self.provider.get_param('omegam'), loc=0.298, scale=0.022)\"\n",
    "      requires: omegam\n",
    "\n",
    "theory:\n",
    "    camb:\n",
    "        stop_at_error: True\n",
    "        extra_args:\n",
    "            lens_potential_accuracy: 1\n",
    "\n",
    "params:\n",
    "  lambda_mst: 1.0\n",
    "  lambda_mst_sigma: 0.01\n",
    "  alpha_lambda: 0.0\n",
    "  a_ani: 0.2\n",
    "  a_ani_sigma: 0.05\n",
    "  H0:\n",
    "    prior:\n",
    "        min: 0\n",
    "        max: 150\n",
    "    ref:\n",
    "        dist: norm\n",
    "        loc: 72\n",
    "        scale: 2\n",
    "    proposal: 0.1\n",
    "    latex: H_0\n",
    "  omegam:\n",
    "    latex: \\Omega_{\\rm m}  \n",
    "  w: -1.0\n",
    "  wa: 0.0\n",
    "  omegak: 0.0\n",
    "  mnu: 0.06\n",
    "  ombh2: 0.04\n",
    "  \n",
    "sampler:\n",
    "    mcmc:\n",
    "      Rminus1_stop: 1.0\n",
    "\n",
    "output: chains/example_chain\n",
    "force: True\n",
    "\"\"\""
   ]
  },
  {
   "cell_type": "markdown",
   "id": "5427e18c",
   "metadata": {},
   "source": [
    "This will use the TDCOSMO likelihood with the 7 TDCOSMO lenses (the SLACS lenses can also be added following the same pattern as the TDCOSMO data in the above yaml example) and use camb as the theory code to calculate angular diameter distances. However, any theory code implemented in Cobaya can be used. The basic MCMC sampler in Cobaya is used, but again, any available sampler in Cobaya can be used. The sampling is requested to stop when the Gelman--Rubin criterion gets below 1.0. This is not sufficient for convergence, but is ok for a quick check.\n",
    "\n",
    "The chains are written to the path given, and `force: True` overwrites previous products with the same path and name."
   ]
  },
  {
   "cell_type": "code",
   "execution_count": 2,
   "id": "d95256c9",
   "metadata": {},
   "outputs": [],
   "source": [
    "# import the yaml package\n",
    "from cobaya.yaml import yaml_load\n",
    "\n",
    "# load the info\n",
    "info = yaml_load(info_yaml)"
   ]
  },
  {
   "cell_type": "code",
   "execution_count": 3,
   "id": "0d56ee8c",
   "metadata": {},
   "outputs": [
    {
     "name": "stdout",
     "output_type": "stream",
     "text": [
      "[output] Output to be read-from/written-into folder 'chains', with prefix 'example_chain'\n",
      "[camb] `camb` module loaded successfully from /home/natalie/Projects/slide/cobaya_packages/code/CAMB/camb\n",
      "Using TDCOSMO lenses\n",
      "SLACS SDSS lenses not being used\n",
      "SLACS IFU lenses not being used\n",
      "[prior_omegam] Initialized external likelihood.\n",
      "[mcmc] Getting initial point... (this may take a few seconds)\n",
      "[model] Measuring speeds... (this may take a few seconds)\n",
      "[model] Setting measured speeds (per sec): {tdcosmo.tdcosmo.TDCOSMO: 1.25, prior_omegam: 4010.0, camb.transfers: 34.1, camb: 2650.0}\n",
      "[mcmc] Initial point: H0:71.1427\n",
      "[mcmc] Covariance matrix not present. We will start learning the covariance of the proposal earlier: R-1 = 30 (would be 2 if all params loaded).\n",
      "[mcmc] Sampling!\n",
      "[mcmc] Progress @ 2023-09-15 15:51:33 : 1 steps taken, and 0 accepted.\n",
      "[mcmc] Learn + convergence test @ 40 samples accepted.\n",
      "[mcmc]  - Acceptance rate: 0.914\n",
      "[mcmc]  - Convergence of means: R-1 = 12.572087 after 32 accepted steps\n",
      "[mcmc]  - Updated covariance matrix of proposal pdf.\n",
      "[mcmc] Progress @ 2023-09-15 15:52:33 : 67 steps taken, and 55 accepted.\n",
      "[mcmc] Learn + convergence test @ 80 samples accepted.\n",
      "[mcmc]  - Acceptance rate: 0.762\n",
      "[mcmc]  - Convergence of means: R-1 = 0.905950 after 64 accepted steps\n",
      "[mcmc]  - Updated covariance matrix of proposal pdf.\n",
      "[mcmc] Progress @ 2023-09-15 15:53:34 : 121 steps taken, and 90 accepted.\n",
      "[mcmc] Learn + convergence test @ 120 samples accepted.\n",
      "[mcmc]  - Acceptance rate: 0.667\n",
      "[mcmc]  - Convergence of means: R-1 = 0.934388 after 96 accepted steps\n",
      "[mcmc]  - Convergence of bounds: R-1 = 0.728365 after 120 accepted steps\n",
      "[mcmc]  - Updated covariance matrix of proposal pdf.\n",
      "[mcmc] Progress @ 2023-09-15 15:54:34 : 177 steps taken, and 121 accepted.\n",
      "[mcmc] Progress @ 2023-09-15 15:55:34 : 241 steps taken, and 150 accepted.\n",
      "[mcmc] Learn + convergence test @ 160 samples accepted.\n",
      "[mcmc]  - Acceptance rate: 0.590\n",
      "[mcmc]  - Convergence of means: R-1 = 0.241685 after 128 accepted steps\n",
      "[mcmc]  - Convergence of bounds: R-1 = 0.487473 after 160 accepted steps\n",
      "[mcmc]  - Updated covariance matrix of proposal pdf.\n",
      "[mcmc] Progress @ 2023-09-15 15:56:35 : 302 steps taken, and 184 accepted.\n",
      "[mcmc] Learn + convergence test @ 200 samples accepted.\n",
      "[mcmc]  - Acceptance rate: 0.556\n",
      "[mcmc]  - Convergence of means: R-1 = 0.133102 after 160 accepted steps\n",
      "[mcmc]  - Convergence of bounds: R-1 = 0.383103 after 200 accepted steps\n",
      "[mcmc]  - Updated covariance matrix of proposal pdf.\n",
      "[mcmc] Progress @ 2023-09-15 15:57:36 : 364 steps taken, and 213 accepted.\n",
      "[mcmc] Learn + convergence test @ 240 samples accepted.\n",
      "[mcmc]  - Acceptance rate: 0.523\n",
      "[mcmc]  - Convergence of means: R-1 = 0.006803 after 192 accepted steps\n",
      "[mcmc]  - Convergence of bounds: R-1 = 0.274815 after 240 accepted steps\n",
      "[mcmc]  - Updated covariance matrix of proposal pdf.\n",
      "[mcmc] Progress @ 2023-09-15 15:58:36 : 423 steps taken, and 240 accepted.\n",
      "[mcmc] Progress @ 2023-09-15 15:59:37 : 474 steps taken, and 263 accepted.\n",
      "[mcmc] Learn + convergence test @ 280 samples accepted.\n",
      "[mcmc]  - Acceptance rate: 0.500\n",
      "[mcmc]  - Convergence of means: R-1 = 0.045382 after 224 accepted steps\n",
      "[mcmc]  - Convergence of bounds: R-1 = 0.259715 after 280 accepted steps\n",
      "[mcmc]  - Updated covariance matrix of proposal pdf.\n",
      "[mcmc] Progress @ 2023-09-15 16:00:37 : 524 steps taken, and 283 accepted.\n",
      "[mcmc] Progress @ 2023-09-15 16:01:37 : 589 steps taken, and 307 accepted.\n",
      "[mcmc] Learn + convergence test @ 320 samples accepted.\n",
      "[mcmc]  - Acceptance rate: 0.482\n",
      "[mcmc]  - Convergence of means: R-1 = 0.009647 after 256 accepted steps\n",
      "[mcmc]  - Convergence of bounds: R-1 = 0.221623 after 320 accepted steps\n",
      "[mcmc]  - Updated covariance matrix of proposal pdf.\n",
      "[mcmc] Progress @ 2023-09-15 16:02:37 : 658 steps taken, and 341 accepted.\n",
      "[mcmc] Learn + convergence test @ 360 samples accepted.\n",
      "[mcmc]  - Acceptance rate: 0.471\n",
      "[mcmc]  - Convergence of means: R-1 = 0.009157 after 288 accepted steps\n",
      "[mcmc]  - Convergence of bounds: R-1 = 0.142780 after 360 accepted steps\n",
      "[mcmc] The run has converged!\n",
      "[mcmc] Sampling complete after 360 accepted steps.\n"
     ]
    }
   ],
   "source": [
    "# import the run package\n",
    "from cobaya.run import run\n",
    "\n",
    "# run the sampler with the above info\n",
    "updated_info, sampler = run(info)"
   ]
  },
  {
   "cell_type": "markdown",
   "id": "61ead649",
   "metadata": {},
   "source": [
    "## Results"
   ]
  },
  {
   "cell_type": "code",
   "execution_count": 4,
   "id": "49a7c3fc",
   "metadata": {},
   "outputs": [
    {
     "name": "stdout",
     "output_type": "stream",
     "text": [
      "[root] *WARNING* outlier fraction 0.125 \n"
     ]
    },
    {
     "data": {
      "image/png": "[encoded data removed]",
      "text/plain": [
       "<Figure size 400x400 with 3 Axes>"
      ]
     },
     "metadata": {},
     "output_type": "display_data"
    }
   ],
   "source": [
    "# import getdist to analyse the chain\n",
    "from getdist.mcsamples import MCSamplesFromCobaya\n",
    "import getdist.plots as gdplt\n",
    "%matplotlib inline\n",
    "\n",
    "# create the MCSamples object\n",
    "gd_sample = MCSamplesFromCobaya(updated_info, sampler.products()[\"sample\"])\n",
    "\n",
    "# get the subplot plotter\n",
    "gdplot = gdplt.getSubplotPlotter()\n",
    "\n",
    "# choose some parameters to plot\n",
    "gdplot.triangle_plot(gd_sample, ['H0', 'omegam'], filled=True)"
   ]
  },
  {
   "cell_type": "markdown",
   "id": "fd14400e",
   "metadata": {},
   "source": [
    "We can see that the sampler runs and obtains reasonable contours, but convergence is evidently not reached, with some long tails in the posteriors. The sampling should be repeated with all the nuisance parameters sampled, and a smaller R-1 in place.\n",
    "\n",
    "If you want to run from the terminal rather than a notebook/script, simply copy the yaml information into a `<filename>.yaml` file and run with \n",
    "\n",
    "`$ cobaya-run <filename>.yaml`. \n",
    "\n",
    "This method should also be used for submitting batch jobs on a cluster."
   ]
  }
 ],
 "metadata": {
  "kernelspec": {
   "display_name": "Python 3 (ipykernel)",
   "language": "python",
   "name": "python3"
  },
  "language_info": {
   "codemirror_mode": {
    "name": "ipython",
    "version": 3
   },
   "file_extension": ".py",
   "mimetype": "text/x-python",
   "name": "python",
   "nbconvert_exporter": "python",
   "pygments_lexer": "ipython3",
   "version": "3.11.4"
  }
 },
 "nbformat": 4,
 "nbformat_minor": 5
}
