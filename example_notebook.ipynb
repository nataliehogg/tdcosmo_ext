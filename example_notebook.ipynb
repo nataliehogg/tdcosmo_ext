{
 "cells": [
  {
   "cell_type": "markdown",
   "id": "83231091",
   "metadata": {},
   "source": [
    "# Using the TDCOSMO likelihood with cobaya\n",
    "\n",
    "Author: Natalie B. Hogg"
   ]
  },
  {
   "cell_type": "markdown",
   "id": "3ca26782",
   "metadata": {},
   "source": [
    "## Installation\n",
    "\n",
    "This notebook assumes that you have installed Cobaya as described here: https://cobaya.readthedocs.io/en/latest/installation.html, along with hierArc and lenstronomy."
   ]
  },
  {
   "cell_type": "markdown",
   "id": "817ea18f",
   "metadata": {},
   "source": [
    "## Sampling\n",
    "\n",
    "Cobaya takes its settings either as Python dictionaries or in yaml format. Here are the yaml settings to do a very quick test run. Most of the parameters are kept fixed to arbitrary values."
   ]
  },
  {
   "cell_type": "code",
   "execution_count": 2,
   "id": "ab395f50",
   "metadata": {},
   "outputs": [],
   "source": [
    "info_yaml = r\"\"\"\n",
    "likelihood:\n",
    "    tdcosmo.tdcosmo.TDCOSMO:\n",
    "\n",
    "theory:\n",
    "    camb:\n",
    "        stop_at_error: True\n",
    "        extra_args:\n",
    "            lens_potential_accuracy: 1\n",
    "\n",
    "params:\n",
    "  lambda_mst: 1.0\n",
    "  lambda_mst_sigma: 0.01\n",
    "  alpha_lambda: 0.0\n",
    "  a_ani: 0.2\n",
    "  a_ani_sigma: 0.05\n",
    "  H0:\n",
    "    prior:\n",
    "        min: 0\n",
    "        max: 150\n",
    "    ref:\n",
    "        dist: norm\n",
    "        loc: 67\n",
    "        scale: 2\n",
    "    proposal: 2\n",
    "    latex: H_0\n",
    "  omegam:\n",
    "    latex: \\Omega_{\\rm m}  \n",
    "  w: -1.0\n",
    "  wa: 0.0\n",
    "  omegak: 0.0\n",
    "  mnu: 0.06\n",
    "  ombh2: 0.04\n",
    "  \n",
    "sampler:\n",
    "    mcmc:\n",
    "      Rminus1_stop: 1.0\n",
    "\n",
    "output: chains/tdcosmo_tiny\n",
    "force: True\n",
    "\"\"\""
   ]
  },
  {
   "cell_type": "markdown",
   "id": "5427e18c",
   "metadata": {},
   "source": [
    "This will use the TDCOSMO likelihood with **just the TDCOSMO** dataset and use camb as the theory code to calculate angular diameter distances (in fact, the full theory is calculated including transfer functions). The basic MCMC sampler in Cobaya is used, and requested to stop sampling when the Gelman--Rubin criterion gets below 1.0. This is not sufficient for convergence, but is ok for a quick check.\n",
    "\n",
    "The chains are written to the path given, and `force: True` overwrites previous products with the same path and name."
   ]
  },
  {
   "cell_type": "code",
   "execution_count": 3,
   "id": "d95256c9",
   "metadata": {},
   "outputs": [],
   "source": [
    "# import the yaml package\n",
    "from cobaya.yaml import yaml_load\n",
    "\n",
    "info = yaml_load(info_yaml)"
   ]
  },
  {
   "cell_type": "code",
   "execution_count": 4,
   "id": "0d56ee8c",
   "metadata": {},
   "outputs": [
    {
     "name": "stdout",
     "output_type": "stream",
     "text": [
      "[output] Output to be read-from/written-into folder 'chains', with prefix 'tdcosmo_tiny'\n",
      "[camb] `camb` module loaded successfully from /home/natalie/Projects/slide/cobaya_packages/code/CAMB/camb\n",
      "[mcmc] Getting initial point... (this may take a few seconds)\n",
      "[model] Measuring speeds... (this may take a few seconds)\n",
      "[model] Setting measured speeds (per sec): {tdcosmo.tdcosmo.TDCOSMO: 0.938, camb.transfers: 27.4, camb: 869.0}\n",
      "[mcmc] Initial point: H0:67.16322\n",
      "[mcmc] Covariance matrix not present. We will start learning the covariance of the proposal earlier: R-1 = 30 (would be 2 if all params loaded).\n",
      "[mcmc] Sampling!\n",
      "[mcmc] Progress @ 2023-09-01 17:01:15 : 1 steps taken, and 0 accepted.\n",
      "[mcmc] Progress @ 2023-09-01 17:02:17 : 57 steps taken, and 24 accepted.\n",
      "[mcmc] Learn + convergence test @ 40 samples accepted.\n",
      "[mcmc]  - Acceptance rate: 0.432\n",
      "[mcmc]  - Convergence of means: R-1 = 0.425037 after 32 accepted steps\n",
      "[mcmc]  - Updated covariance matrix of proposal pdf.\n",
      "[mcmc] Progress @ 2023-09-01 17:03:17 : 110 steps taken, and 50 accepted.\n",
      "[mcmc] Progress @ 2023-09-01 17:04:18 : 144 steps taken, and 58 accepted.\n",
      "[mcmc] Learn + convergence test @ 80 samples accepted.\n",
      "[mcmc]  - Acceptance rate: 0.427\n",
      "[mcmc]  - Convergence of means: R-1 = 0.127416 after 64 accepted steps\n",
      "[mcmc]  - Convergence of bounds: R-1 = 0.236232 after 80 accepted steps\n",
      "[mcmc]  - Updated covariance matrix of proposal pdf.\n",
      "[mcmc] Progress @ 2023-09-01 17:05:18 : 191 steps taken, and 82 accepted.\n",
      "[mcmc] Progress @ 2023-09-01 17:06:19 : 251 steps taken, and 107 accepted.\n",
      "[mcmc] Learn + convergence test @ 120 samples accepted.\n",
      "[mcmc]  - Acceptance rate: 0.432\n",
      "[mcmc]  - Convergence of means: R-1 = 0.096163 after 96 accepted steps\n",
      "[mcmc]  - Convergence of bounds: R-1 = 0.160647 after 120 accepted steps\n",
      "[mcmc] The run has converged!\n",
      "[mcmc] Sampling complete after 120 accepted steps.\n"
     ]
    }
   ],
   "source": [
    "# import the run package\n",
    "from cobaya.run import run\n",
    "\n",
    "# run the sampler with the above info\n",
    "updated_info, sampler = run(info)"
   ]
  },
  {
   "cell_type": "code",
   "execution_count": 7,
   "id": "49a7c3fc",
   "metadata": {},
   "outputs": [
    {
     "name": "stdout",
     "output_type": "stream",
     "text": [
      "[root] *WARNING* outlier fraction 0.1 \n"
     ]
    },
    {
     "data": {
      "image/png": "[encoded data removed]",
      "text/plain": [
       "<Figure size 400x400 with 3 Axes>"
      ]
     },
     "metadata": {},
     "output_type": "display_data"
    }
   ],
   "source": [
    "# import getdist to analyse the chain\n",
    "from getdist.mcsamples import MCSamplesFromCobaya\n",
    "import getdist.plots as gdplt\n",
    "%matplotlib inline\n",
    "\n",
    "# create the MCSamples object\n",
    "gd_sample = MCSamplesFromCobaya(updated_info, sampler.products()[\"sample\"])\n",
    "\n",
    "# get the subplot plotter\n",
    "gdplot = gdplt.getSubplotPlotter()\n",
    "\n",
    "# choose some parameters to plot\n",
    "gdplot.triangle_plot(gd_sample, ['H0', 'omegam'], filled=True)"
   ]
  },
  {
   "cell_type": "markdown",
   "id": "fd14400e",
   "metadata": {},
   "source": [
    "We can see that the sampler runs and obtains reasonable contours, but convergence is evidently not reached. The sampling should be repeated with all the nuisance parameters sampled, and a smaller R-1 in place."
   ]
  }
 ],
 "metadata": {
  "kernelspec": {
   "display_name": "Python 3 (ipykernel)",
   "language": "python",
   "name": "python3"
  },
  "language_info": {
   "codemirror_mode": {
    "name": "ipython",
    "version": 3
   },
   "file_extension": ".py",
   "mimetype": "text/x-python",
   "name": "python",
   "nbconvert_exporter": "python",
   "pygments_lexer": "ipython3",
   "version": "3.11.4"
  }
 },
 "nbformat": 4,
 "nbformat_minor": 5
}
