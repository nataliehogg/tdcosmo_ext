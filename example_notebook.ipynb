{
 "cells": [
  {
   "cell_type": "markdown",
   "id": "83231091",
   "metadata": {},
   "source": [
    "# Using the TDCOSMO likelihood with Cobaya\n",
    "\n",
    "Natalie B. Hogg"
   ]
  },
  {
   "cell_type": "markdown",
   "id": "3ca26782",
   "metadata": {},
   "source": [
    "## Installation\n",
    "\n",
    "This notebook assumes that you have installed Cobaya as described here: https://cobaya.readthedocs.io/en/latest/installation.html, along with hierArc and lenstronomy. You also need to clone the `tdcosmo_ext` repository to your machine and change the paths in the settings below to match where you have saved it."
   ]
  },
  {
   "cell_type": "markdown",
   "id": "817ea18f",
   "metadata": {},
   "source": [
    "## Sampling\n",
    "\n",
    "Cobaya takes its settings either as Python dictionaries or in yaml format. Here are the yaml settings to do a very quick test run. Most of the parameters are kept fixed to arbitrary values.\n",
    "\n",
    "In the `likelihood` block we call the TDCOSMO external likelihood, and we also exploit the external likelihood capability of Cobaya to impose the Pantheon prior on $\\Omega_{\\rm m}$, as done in the original TDCOSMO analysis. We have to set the prior in this way because in the Cobaya framework, $\\Omega_{\\rm m}$ is a derived parameter and therefore not directly sampled. This means we can't set a prior on it in the `params` block as done with e.g. $H_0$."
   ]
  },
  {
   "cell_type": "code",
   "execution_count": 1,
   "id": "ab395f50",
   "metadata": {},
   "outputs": [],
   "source": [
    "info_yaml = r\"\"\"\n",
    "likelihood:\n",
    "    tdcosmo.tdcosmo.TDCOSMO:\n",
    "      python_path: /home/natalie/Projects/slide/tdcosmo_ext/\n",
    "      tdcosmo_lenses: data/tdcosmo7_likelihood_processed.pkl\n",
    "    prior_omegam:  \n",
    "      external: \"lambda _self: stats.norm.logpdf(_self.provider.get_param('omegam'), loc=0.298, scale=0.022)\"\n",
    "      requires: omegam\n",
    "\n",
    "theory:\n",
    "    camb:\n",
    "        stop_at_error: True\n",
    "        extra_args:\n",
    "            lens_potential_accuracy: 1\n",
    "\n",
    "params:\n",
    "  lambda_mst: 1.0\n",
    "  lambda_mst_sigma: 0.01\n",
    "  alpha_lambda: 0.0\n",
    "  a_ani: 0.2\n",
    "  a_ani_sigma: 0.05\n",
    "  H0:\n",
    "    prior:\n",
    "        min: 0\n",
    "        max: 150\n",
    "    ref:\n",
    "        dist: norm\n",
    "        loc: 74\n",
    "        scale: 2\n",
    "    proposal: 0.1\n",
    "    latex: H_0\n",
    "  ombh2:\n",
    "    prior:\n",
    "      min: 0.005\n",
    "      max: 0.1\n",
    "    ref:\n",
    "      dist: norm\n",
    "      loc: 0.0224\n",
    "      scale: 0.0001\n",
    "    proposal: 0.0001\n",
    "    latex: \\Omega_\\mathrm{b} h^2\n",
    "  omch2:\n",
    "    prior:\n",
    "      min: 0.001\n",
    "      max: 0.99\n",
    "    ref:\n",
    "      dist: norm\n",
    "      loc: 0.12\n",
    "      scale: 0.001\n",
    "    proposal: 0.0005\n",
    "    latex: \\Omega_\\mathrm{c} h^2\n",
    "  omegam:\n",
    "    latex: \\Omega_{\\rm m}  \n",
    "  w: -1.0\n",
    "  wa: 0.0\n",
    "  omegak: 0.0\n",
    "  mnu: 0.06\n",
    "  \n",
    "sampler:\n",
    "    mcmc:\n",
    "      Rminus1_stop: 1.0\n",
    "\n",
    "output: chains/example_chain\n",
    "force: True\n",
    "\"\"\""
   ]
  },
  {
   "cell_type": "markdown",
   "id": "5427e18c",
   "metadata": {},
   "source": [
    "This will use the TDCOSMO likelihood with the 7 TDCOSMO lenses (the SLACS lenses can also be added following the same pattern as the TDCOSMO data in the above yaml example) and use camb as the theory code to calculate angular diameter distances. However, any theory code implemented in Cobaya can be used. The basic MCMC sampler in Cobaya is used, but again, any available sampler in Cobaya can be used. The sampling is requested to stop when the Gelman--Rubin criterion gets below 1.0. This is not sufficient for convergence, but is ok for a quick check.\n",
    "\n",
    "The chains are written to the path given, and `force: True` overwrites previous products with the same path and name."
   ]
  },
  {
   "cell_type": "markdown",
   "id": "ae137fa7",
   "metadata": {},
   "source": [
    "⚠️ The velocity dispersions of the SLACS lenses measured by SDSS using single-aperture spectroscopy have recently been shown to exhibit bias compared to IFU spectra obtained from Keck ([Knabel et al. 2024](https://arxiv.org/abs/2409.10631)). This bias will propagate to cosmological inference if these data are included in the analysis (`tdcosmo/data/slacs_sdss_likelihood_processed.pkl` in this repository). For this reason, I recommend **avoiding the use of this likelihood**. The likelihoods derived from the time delay data and from IFU-measured kinematics for nine of the SLACS lenses are safe to use (`tdcosmo/data/tdcosmo7_likelihood_processed.pkl` and `tdcosmo/data/slacs_ifu_likelihood_processed.pkl` respectively). This repository will be updated with any future likelihood for IFU-measured kinematics when so provided by the TDCOSMO collaboration."
   ]
  },
  {
   "cell_type": "code",
   "execution_count": 2,
   "id": "d95256c9",
   "metadata": {},
   "outputs": [],
   "source": [
    "# import the yaml package\n",
    "from cobaya.yaml import yaml_load\n",
    "\n",
    "# load the info\n",
    "info = yaml_load(info_yaml)"
   ]
  },
  {
   "cell_type": "code",
   "execution_count": 3,
   "id": "0d56ee8c",
   "metadata": {},
   "outputs": [
    {
     "name": "stdout",
     "output_type": "stream",
     "text": [
      "[output] Output to be read-from/written-into folder 'chains', with prefix 'example_chain'\n",
      "[output] Found existing info files with the requested output prefix: 'chains/example_chain'\n",
      "[output] Will delete previous products ('force' was requested).\n",
      "[camb] `camb` module loaded successfully from /home/natalie/Projects/slide/cobaya_packages/code/CAMB/camb\n",
      "Using TDCOSMO lenses\n",
      "SLACS SDSS lenses not being used\n",
      "SLACS IFU lenses not being used\n",
      "[prior_omegam] Initialized external likelihood.\n",
      "[mcmc] Getting initial point... (this may take a few seconds)\n",
      "[model] Measuring speeds... (this may take a few seconds)\n",
      "[model] Setting measured speeds (per sec): {tdcosmo.tdcosmo.TDCOSMO: 0.8, prior_omegam: 4280.0, camb.transfers: 23.0, camb: 2630.0}\n",
      "[mcmc] Initial point: H0:77.04534, ombh2:0.02237899, omch2:0.1216001\n",
      "[mcmc] Covariance matrix not present. We will start learning the covariance of the proposal earlier: R-1 = 30 (would be 2 if all params loaded).\n",
      "[mcmc] Sampling!\n",
      "[mcmc] Progress @ 2023-09-29 11:24:22 : 1 steps taken, and 0 accepted.\n",
      "[mcmc] Progress @ 2023-09-29 11:25:22 : 52 steps taken, and 42 accepted.\n",
      "[mcmc] Progress @ 2023-09-29 11:26:23 : 116 steps taken, and 103 accepted.\n",
      "[mcmc] Learn + convergence test @ 120 samples accepted.\n",
      "[mcmc]  - Acceptance rate: 0.865\n",
      "[mcmc]  - Convergence of means: R-1 = 10.270133 after 96 accepted steps\n",
      "[mcmc]  - Updated covariance matrix of proposal pdf.\n",
      "[mcmc] Progress @ 2023-09-29 11:27:24 : 179 steps taken, and 152 accepted.\n",
      "[mcmc] Progress @ 2023-09-29 11:28:24 : 242 steps taken, and 199 accepted.\n",
      "[mcmc] Learn + convergence test @ 240 samples accepted.\n",
      "[mcmc]  - Acceptance rate: 0.821\n",
      "[mcmc]  - Convergence of means: R-1 = 1.087288 after 192 accepted steps\n",
      "[mcmc]  - Updated covariance matrix of proposal pdf.\n",
      "[mcmc] Progress @ 2023-09-29 11:29:25 : 305 steps taken, and 246 accepted.\n",
      "[mcmc] Progress @ 2023-09-29 11:30:25 : 371 steps taken, and 283 accepted.\n",
      "[mcmc] Progress @ 2023-09-29 11:31:26 : 436 steps taken, and 317 accepted.\n",
      "[mcmc] Progress @ 2023-09-29 11:32:26 : 493 steps taken, and 351 accepted.\n",
      "[mcmc] Learn + convergence test @ 360 samples accepted.\n",
      "[mcmc]  - Acceptance rate: 0.678\n",
      "[mcmc]  - Convergence of means: R-1 = 3.969519 after 288 accepted steps\n",
      "[mcmc]  - Updated covariance matrix of proposal pdf.\n",
      "[mcmc] Progress @ 2023-09-29 11:33:27 : 547 steps taken, and 381 accepted.\n",
      "[mcmc] Progress @ 2023-09-29 11:34:27 : 601 steps taken, and 412 accepted.\n",
      "[mcmc] Progress @ 2023-09-29 11:35:28 : 660 steps taken, and 441 accepted.\n",
      "[mcmc] Progress @ 2023-09-29 11:36:28 : 712 steps taken, and 468 accepted.\n",
      "[mcmc] Learn + convergence test @ 480 samples accepted.\n",
      "[mcmc]  - Acceptance rate: 0.600\n",
      "[mcmc]  - Convergence of means: R-1 = 1.259204 after 384 accepted steps\n",
      "[mcmc]  - Updated covariance matrix of proposal pdf.\n",
      "[mcmc] Progress @ 2023-09-29 11:37:29 : 785 steps taken, and 495 accepted.\n",
      "[mcmc] Progress @ 2023-09-29 11:38:29 : 883 steps taken, and 529 accepted.\n",
      "[mcmc] Progress @ 2023-09-29 11:39:30 : 971 steps taken, and 559 accepted.\n",
      "[mcmc] Progress @ 2023-09-29 11:40:30 : 1050 steps taken, and 590 accepted.\n",
      "[mcmc] Learn + convergence test @ 600 samples accepted.\n",
      "[mcmc]  - Acceptance rate: 0.506\n",
      "[mcmc]  - Convergence of means: R-1 = 0.565835 after 480 accepted steps\n",
      "[mcmc]  - Updated covariance matrix of proposal pdf.\n",
      "[mcmc] Progress @ 2023-09-29 11:41:30 : 1151 steps taken, and 619 accepted.\n",
      "[mcmc] Progress @ 2023-09-29 11:42:31 : 1244 steps taken, and 644 accepted.\n",
      "[mcmc] Progress @ 2023-09-29 11:43:31 : 1339 steps taken, and 676 accepted.\n",
      "[mcmc] Progress @ 2023-09-29 11:44:32 : 1432 steps taken, and 704 accepted.\n",
      "[mcmc] Learn + convergence test @ 720 samples accepted.\n",
      "[mcmc]  - Acceptance rate: 0.447\n",
      "[mcmc]  - Convergence of means: R-1 = 0.701351 after 576 accepted steps\n",
      "[mcmc]  - Convergence of bounds: R-1 = 0.749820 after 720 accepted steps\n",
      "[mcmc]  - Updated covariance matrix of proposal pdf.\n",
      "[mcmc] Progress @ 2023-09-29 11:45:32 : 1528 steps taken, and 744 accepted.\n",
      "[mcmc] Progress @ 2023-09-29 11:46:33 : 1581 steps taken, and 760 accepted.\n",
      "[mcmc] Progress @ 2023-09-29 11:47:34 : 1665 steps taken, and 787 accepted.\n",
      "[mcmc] Progress @ 2023-09-29 11:48:34 : 1733 steps taken, and 807 accepted.\n",
      "[mcmc] Progress @ 2023-09-29 11:49:35 : 1804 steps taken, and 831 accepted.\n",
      "[mcmc] Learn + convergence test @ 840 samples accepted.\n",
      "[mcmc]  - Acceptance rate: 0.415\n",
      "[mcmc]  - Convergence of means: R-1 = 0.380182 after 672 accepted steps\n",
      "[mcmc]  - Convergence of bounds: R-1 = 0.646767 after 840 accepted steps\n",
      "[mcmc]  - Updated covariance matrix of proposal pdf.\n",
      "[mcmc] Progress @ 2023-09-29 11:50:36 : 1891 steps taken, and 860 accepted.\n",
      "[mcmc] Progress @ 2023-09-29 11:51:36 : 1993 steps taken, and 877 accepted.\n",
      "[mcmc] Progress @ 2023-09-29 11:52:37 : 2112 steps taken, and 905 accepted.\n",
      "[mcmc] Progress @ 2023-09-29 11:53:37 : 2207 steps taken, and 937 accepted.\n",
      "[mcmc] Learn + convergence test @ 960 samples accepted.\n",
      "[mcmc]  - Acceptance rate: 0.375\n",
      "[mcmc]  - Convergence of means: R-1 = 0.209016 after 768 accepted steps\n",
      "[mcmc]  - Convergence of bounds: R-1 = 0.463968 after 960 accepted steps\n",
      "[mcmc]  - Updated covariance matrix of proposal pdf.\n",
      "[mcmc] Progress @ 2023-09-29 11:54:38 : 2311 steps taken, and 969 accepted.\n",
      "[mcmc] Progress @ 2023-09-29 11:55:39 : 2415 steps taken, and 998 accepted.\n",
      "[mcmc] Progress @ 2023-09-29 11:56:39 : 2521 steps taken, and 1032 accepted.\n",
      "[mcmc] Progress @ 2023-09-29 11:57:40 : 2617 steps taken, and 1064 accepted.\n",
      "[mcmc] Learn + convergence test @ 1080 samples accepted.\n",
      "[mcmc]  - Acceptance rate: 0.359\n",
      "[mcmc]  - Convergence of means: R-1 = 0.192517 after 864 accepted steps\n",
      "[mcmc]  - Convergence of bounds: R-1 = 0.457510 after 1080 accepted steps\n",
      "[mcmc]  - Updated covariance matrix of proposal pdf.\n",
      "[mcmc] Progress @ 2023-09-29 11:58:40 : 2737 steps taken, and 1092 accepted.\n",
      "[mcmc] Progress @ 2023-09-29 11:59:41 : 2846 steps taken, and 1127 accepted.\n",
      "[mcmc] Progress @ 2023-09-29 12:00:41 : 2949 steps taken, and 1155 accepted.\n",
      "[mcmc] Progress @ 2023-09-29 12:01:41 : 3064 steps taken, and 1186 accepted.\n",
      "[mcmc] Learn + convergence test @ 1200 samples accepted.\n",
      "[mcmc]  - Acceptance rate: 0.342\n",
      "[mcmc]  - Convergence of means: R-1 = 0.056693 after 960 accepted steps\n",
      "[mcmc]  - Convergence of bounds: R-1 = 0.281680 after 1200 accepted steps\n",
      "[mcmc]  - Updated covariance matrix of proposal pdf.\n",
      "[mcmc] Progress @ 2023-09-29 12:02:42 : 3169 steps taken, and 1218 accepted.\n",
      "[mcmc] Progress @ 2023-09-29 12:03:42 : 3291 steps taken, and 1243 accepted.\n",
      "[mcmc] Progress @ 2023-09-29 12:04:43 : 3369 steps taken, and 1269 accepted.\n",
      "[mcmc] Progress @ 2023-09-29 12:05:43 : 3437 steps taken, and 1292 accepted.\n",
      "[mcmc] Learn + convergence test @ 1320 samples accepted.\n",
      "[mcmc]  - Acceptance rate: 0.331\n",
      "[mcmc]  - Convergence of means: R-1 = 0.029872 after 1056 accepted steps\n",
      "[mcmc]  - Convergence of bounds: R-1 = 0.144848 after 1320 accepted steps\n",
      "[mcmc] The run has converged!\n",
      "[mcmc] Sampling complete after 1320 accepted steps.\n"
     ]
    }
   ],
   "source": [
    "# import the run package\n",
    "from cobaya.run import run\n",
    "\n",
    "# run the sampler with the above info\n",
    "updated_info, sampler = run(info)"
   ]
  },
  {
   "cell_type": "markdown",
   "id": "61ead649",
   "metadata": {},
   "source": [
    "## Results"
   ]
  },
  {
   "cell_type": "code",
   "execution_count": 4,
   "id": "49a7c3fc",
   "metadata": {},
   "outputs": [
    {
     "name": "stdout",
     "output_type": "stream",
     "text": [
      "[root] *WARNING* outlier fraction 0.05227272727272727 \n"
     ]
    },
    {
     "data": {
      "image/png": "[encoded data removed]",
      "text/plain": [
       "<Figure size 400x400 with 3 Axes>"
      ]
     },
     "metadata": {},
     "output_type": "display_data"
    }
   ],
   "source": [
    "# import getdist to analyse the chain\n",
    "from getdist.mcsamples import MCSamplesFromCobaya\n",
    "import getdist.plots as gdplt\n",
    "%matplotlib inline\n",
    "\n",
    "# create the MCSamples object\n",
    "gd_sample = MCSamplesFromCobaya(updated_info, sampler.products()[\"sample\"])\n",
    "\n",
    "# get the subplot plotter\n",
    "gdplot = gdplt.getSubplotPlotter()\n",
    "\n",
    "# choose some parameters to plot\n",
    "gdplot.triangle_plot(gd_sample, ['H0','omegam'], filled=True)"
   ]
  },
  {
   "cell_type": "markdown",
   "id": "fd14400e",
   "metadata": {},
   "source": [
    "We can see that the sampler runs and obtains reasonable contours, but convergence is evidently not reached. The sampling should be repeated with all the nuisance parameters sampled, and a smaller R-1 stopping value in place.\n",
    "\n",
    "If you want to run from the terminal rather than a notebook/script, simply copy the yaml information into a `<filename>.yaml` file and run with \n",
    "\n",
    "`$ cobaya-run <filename>.yaml`. \n",
    "\n",
    "This method should also be used for submitting batch jobs on a cluster."
   ]
  }
 ],
 "metadata": {
  "kernelspec": {
   "display_name": "Python 3 (ipykernel)",
   "language": "python",
   "name": "python3"
  },
  "language_info": {
   "codemirror_mode": {
    "name": "ipython",
    "version": 3
   },
   "file_extension": ".py",
   "mimetype": "text/x-python",
   "name": "python",
   "nbconvert_exporter": "python",
   "pygments_lexer": "ipython3",
   "version": "3.11.5"
  }
 },
 "nbformat": 4,
 "nbformat_minor": 5
}
